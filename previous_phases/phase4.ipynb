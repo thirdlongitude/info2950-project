{
 "cells": [
  {
   "cell_type": "markdown",
   "metadata": {},
   "source": [
    "## Introduction\n",
    "\n",
    "This project tries to gain a better understanding of the Android app market by analyzing Google Play Store data from 2018. The goal is to answer the following questions:\n",
    "\n",
    "- Which property of an app is the most useful indicator of how successful it is?\n",
    "- How can we best predict the success of an app using the other properties?\n",
    "\n",
    "The two properties that seem to be the most suitable indicators of success are an app's rating and how many times it has been installed. After exploring the data, it seems that installs is slightly better than rating, but neither can be reliably predicted using other properties in the data. With the current approach, it is difficult to characterize what kind of apps tend to be more successful in the Android app market."
   ]
  },
  {
   "cell_type": "markdown",
   "metadata": {},
   "source": [
    "## Data description\n",
    "\n",
    "The dataset contains information on apps in the Google Play Store as of August 2018. Each row is an entry for one app, and there are 12 columns, shown below.\n",
    "\n",
    "- The 'app' column contains the apps' names.\n",
    "- 'category' is the category an app belongs to. One app only belongs to one category, as opposed to 'genres', of which each app can have multiple.\n",
    "- 'rating' is the rating out of 5.\n",
    "- 'reviews' is the number of user reviews.\n",
    "- 'size' is the size of the app.\n",
    "- 'installs' is the approximate number of times an app was installed. For example, '1000+' means that an app was downloaded more than 1,000 times.\n",
    "- 'last_updated' is the last time an app was updated.\n",
    "- 'current_ver' is the most current version of an app.\n",
    "- 'android_ver' is the oldest Android version an app can run on.\n",
    "\n",
    "The raw data file can be found [here](https://cornell.box.com/s/mrc2y9rkd34l8pdbhkl2ss0bbzsxep6a)."
   ]
  },
  {
   "cell_type": "code",
   "execution_count": 1,
   "metadata": {},
   "outputs": [],
   "source": [
    "import pandas as pd\n",
    "import numpy as np\n",
    "import matplotlib.pyplot as plt\n",
    "import seaborn as sns\n",
    "from sklearn.linear_model import LinearRegression"
   ]
  },
  {
   "cell_type": "code",
   "execution_count": 2,
   "metadata": {
    "scrolled": true
   },
   "outputs": [
    {
     "data": {
      "text/html": [
       "<div>\n",
       "<style scoped>\n",
       "    .dataframe tbody tr th:only-of-type {\n",
       "        vertical-align: middle;\n",
       "    }\n",
       "\n",
       "    .dataframe tbody tr th {\n",
       "        vertical-align: top;\n",
       "    }\n",
       "\n",
       "    .dataframe thead th {\n",
       "        text-align: right;\n",
       "    }\n",
       "</style>\n",
       "<table border=\"1\" class=\"dataframe\">\n",
       "  <thead>\n",
       "    <tr style=\"text-align: right;\">\n",
       "      <th></th>\n",
       "      <th>app</th>\n",
       "      <th>category</th>\n",
       "      <th>rating</th>\n",
       "      <th>reviews</th>\n",
       "      <th>size</th>\n",
       "      <th>installs</th>\n",
       "      <th>price</th>\n",
       "      <th>content_rating</th>\n",
       "      <th>genres</th>\n",
       "      <th>last_updated</th>\n",
       "      <th>current_ver</th>\n",
       "      <th>android_ver</th>\n",
       "    </tr>\n",
       "  </thead>\n",
       "  <tbody>\n",
       "    <tr>\n",
       "      <th>0</th>\n",
       "      <td>Photo Editor &amp; Candy Camera &amp; Grid &amp; ScrapBook</td>\n",
       "      <td>art_and_design</td>\n",
       "      <td>4.1</td>\n",
       "      <td>159</td>\n",
       "      <td>19M</td>\n",
       "      <td>10000+</td>\n",
       "      <td>0.0</td>\n",
       "      <td>Everyone</td>\n",
       "      <td>Art &amp; Design</td>\n",
       "      <td>2018-01-07</td>\n",
       "      <td>1.0.0</td>\n",
       "      <td>4.0.3</td>\n",
       "    </tr>\n",
       "    <tr>\n",
       "      <th>1</th>\n",
       "      <td>Coloring book moana</td>\n",
       "      <td>art_and_design</td>\n",
       "      <td>3.9</td>\n",
       "      <td>967</td>\n",
       "      <td>14M</td>\n",
       "      <td>100000+</td>\n",
       "      <td>0.0</td>\n",
       "      <td>Everyone</td>\n",
       "      <td>Art &amp; Design;Pretend Play</td>\n",
       "      <td>2018-01-15</td>\n",
       "      <td>2.0.0</td>\n",
       "      <td>4.0.3</td>\n",
       "    </tr>\n",
       "    <tr>\n",
       "      <th>2</th>\n",
       "      <td>U Launcher Lite – FREE Live Cool Themes, Hide ...</td>\n",
       "      <td>art_and_design</td>\n",
       "      <td>4.7</td>\n",
       "      <td>87510</td>\n",
       "      <td>8.7M</td>\n",
       "      <td>1000000+</td>\n",
       "      <td>0.0</td>\n",
       "      <td>Everyone</td>\n",
       "      <td>Art &amp; Design</td>\n",
       "      <td>2018-08-01</td>\n",
       "      <td>1.2.4</td>\n",
       "      <td>4.0.3</td>\n",
       "    </tr>\n",
       "    <tr>\n",
       "      <th>3</th>\n",
       "      <td>Sketch - Draw &amp; Paint</td>\n",
       "      <td>art_and_design</td>\n",
       "      <td>4.5</td>\n",
       "      <td>215644</td>\n",
       "      <td>25M</td>\n",
       "      <td>10000000+</td>\n",
       "      <td>0.0</td>\n",
       "      <td>Teen</td>\n",
       "      <td>Art &amp; Design</td>\n",
       "      <td>2018-06-08</td>\n",
       "      <td>Varies with device</td>\n",
       "      <td>4.2</td>\n",
       "    </tr>\n",
       "    <tr>\n",
       "      <th>4</th>\n",
       "      <td>Pixel Draw - Number Art Coloring Book</td>\n",
       "      <td>art_and_design</td>\n",
       "      <td>4.3</td>\n",
       "      <td>967</td>\n",
       "      <td>2.8M</td>\n",
       "      <td>100000+</td>\n",
       "      <td>0.0</td>\n",
       "      <td>Everyone</td>\n",
       "      <td>Art &amp; Design;Creativity</td>\n",
       "      <td>2018-06-20</td>\n",
       "      <td>1.1</td>\n",
       "      <td>4.4</td>\n",
       "    </tr>\n",
       "  </tbody>\n",
       "</table>\n",
       "</div>"
      ],
      "text/plain": [
       "                                                 app        category  rating  \\\n",
       "0     Photo Editor & Candy Camera & Grid & ScrapBook  art_and_design     4.1   \n",
       "1                                Coloring book moana  art_and_design     3.9   \n",
       "2  U Launcher Lite – FREE Live Cool Themes, Hide ...  art_and_design     4.7   \n",
       "3                              Sketch - Draw & Paint  art_and_design     4.5   \n",
       "4              Pixel Draw - Number Art Coloring Book  art_and_design     4.3   \n",
       "\n",
       "   reviews  size   installs  price content_rating                     genres  \\\n",
       "0      159   19M     10000+    0.0       Everyone               Art & Design   \n",
       "1      967   14M    100000+    0.0       Everyone  Art & Design;Pretend Play   \n",
       "2    87510  8.7M   1000000+    0.0       Everyone               Art & Design   \n",
       "3   215644   25M  10000000+    0.0           Teen               Art & Design   \n",
       "4      967  2.8M    100000+    0.0       Everyone    Art & Design;Creativity   \n",
       "\n",
       "  last_updated         current_ver android_ver  \n",
       "0   2018-01-07               1.0.0       4.0.3  \n",
       "1   2018-01-15               2.0.0       4.0.3  \n",
       "2   2018-08-01               1.2.4       4.0.3  \n",
       "3   2018-06-08  Varies with device         4.2  \n",
       "4   2018-06-20                 1.1         4.4  "
      ]
     },
     "execution_count": 2,
     "metadata": {},
     "output_type": "execute_result"
    }
   ],
   "source": [
    "playstore = pd.read_csv('playstore_data.csv', parse_dates = ['last_updated'], infer_datetime_format = True)\n",
    "playstore.head()"
   ]
  },
  {
   "cell_type": "markdown",
   "metadata": {},
   "source": [
    "Kaggle user Lavanya Gupta created this dataset by scraping the Google Play Store. Presumably, the data collection occurred on or around August 8, 2018, since this date is the latest in the last_updated column. Gupta writes that she could not find publicly available data on the Google Play Store, while there were many datasets on the Apple App Store. Upon looking into this issue, she found that the Google Play Store uses \"sophisticated modern-day techniques (like dynamic page load) using JQuery\", which makes scraping more difficult. About potential uses for her dataset, she writes that \"\\[a\\]ctionable insights can be drawn for developers to work on and capture the Android market\".\n",
    "\n",
    "After downloading this dataset, I converted some of the columns to types that would be easier to use for calculating, for example, changing the number of reviews to integer values and changing last_updated to datetime values. I discovered that some rows were duplicate entries and had to remove them. I also removed a column, 'type', which identified whether apps were free, because the price column could serve this function as well. There were many empty values in the rating column, which I chose to replace with the mean of the valid values.\n",
    "\n",
    "Some information, such as the precise number of downloads, could not be collected through scraping because the Play Store does not list them. This dataset is a subset of all possible instances; there are 9660 rows (apps) while there were millions of apps in the Google Play Store even in 2018. The criteria for being collected into this dataset is unclear. The original dataset can be found at https://www.kaggle.com/lava18/google-play-store-apps."
   ]
  },
  {
   "cell_type": "markdown",
   "metadata": {},
   "source": [
    "## Preregistration statement\n",
    "\n",
    "#### 1. Predict rating with reviews\n",
    "\n",
    "Use linear regression to see how accurate it is to predict an app's rating given the number of reviews it has. I think there will be a positive correlation, but it might not be that strong. If we assume that rating measures an app's success, perhaps the number of reviews it has indicates success in some way.\n",
    "\n",
    "#### 2. Clusters\n",
    "\n",
    "Check to see if the rating vs reviews scatterplot contains some type of cluster, e.g. by category or by number of installs. Rating doesn't vary much by category, but it's worth checking whether the number of reviews makes a difference. It would also be interesting to see whether apps with certain ratings and number of reviews have a similar number of installs."
   ]
  },
  {
   "cell_type": "markdown",
   "metadata": {},
   "source": [
    "## Data analysis"
   ]
  },
  {
   "cell_type": "markdown",
   "metadata": {},
   "source": [
    "### Describe single variables\n",
    "\n",
    "First examine the more relevant variables: category, rating, number of reviews, times installed, and price."
   ]
  },
  {
   "cell_type": "markdown",
   "metadata": {},
   "source": [
    "#### Category"
   ]
  },
  {
   "cell_type": "markdown",
   "metadata": {},
   "source": [
    "As shown below, there are 33 categories. There's a surprisingly high number of family apps, more than the next two biggest categories combined. After game and tool apps, there is another gap of about 400 until the next biggest category, business."
   ]
  },
  {
   "cell_type": "code",
   "execution_count": 3,
   "metadata": {},
   "outputs": [
    {
     "data": {
      "text/plain": [
       "count       9660\n",
       "unique        33\n",
       "top       family\n",
       "freq        1832\n",
       "Name: category, dtype: object"
      ]
     },
     "execution_count": 3,
     "metadata": {},
     "output_type": "execute_result"
    }
   ],
   "source": [
    "playstore['category'].describe()"
   ]
  },
  {
   "cell_type": "code",
   "execution_count": 4,
   "metadata": {
    "scrolled": true
   },
   "outputs": [
    {
     "data": {
      "text/plain": [
       "family                 1832\n",
       "game                    959\n",
       "tools                   827\n",
       "business                420\n",
       "medical                 395\n",
       "personalization         376\n",
       "productivity            374\n",
       "lifestyle               370\n",
       "finance                 345\n",
       "sports                  325\n",
       "communication           315\n",
       "health_and_fitness      288\n",
       "photography             281\n",
       "news_and_magazines      254\n",
       "social                  239\n",
       "books_and_reference     222\n",
       "travel_and_local        219\n",
       "shopping                202\n",
       "dating                  171\n",
       "video_players           163\n",
       "maps_and_navigation     131\n",
       "education               119\n",
       "food_and_drink          112\n",
       "entertainment           102\n",
       "auto_and_vehicles        85\n",
       "libraries_and_demo       84\n",
       "weather                  79\n",
       "house_and_home           74\n",
       "art_and_design           64\n",
       "events                   64\n",
       "parenting                60\n",
       "comics                   56\n",
       "beauty                   53\n",
       "Name: category, dtype: int64"
      ]
     },
     "execution_count": 4,
     "metadata": {},
     "output_type": "execute_result"
    }
   ],
   "source": [
    "playstore['category'].value_counts()"
   ]
  },
  {
   "cell_type": "markdown",
   "metadata": {},
   "source": [
    "#### Rating"
   ]
  },
  {
   "cell_type": "markdown",
   "metadata": {},
   "source": [
    "The mean rating is fairly high at 4.17 stars and the standard deviation is 0.49. Before the empty values were replaced, the standard deviation was 0.54, which is not too much of a difference from 0.49, so at least replacing the values didn't significantly skew the data."
   ]
  },
  {
   "cell_type": "code",
   "execution_count": 5,
   "metadata": {},
   "outputs": [
    {
     "name": "stdout",
     "output_type": "stream",
     "text": [
      "rating\n",
      "minimum: 1.0\n",
      "maximum: 5.0\n",
      "mean: 4.17\n",
      "standard deviation: 0.49\n"
     ]
    }
   ],
   "source": [
    "rating_min = playstore['rating'].min()\n",
    "rating_max = playstore['rating'].max()\n",
    "rating_mean = playstore['rating'].mean()\n",
    "rating_std = playstore['rating'].std()\n",
    "print('rating\\nminimum: {:.1f}\\nmaximum: {:.1f}\\nmean: {:.2f}\\nstandard deviation: {:.2f}'.format(rating_min, rating_max, rating_mean, rating_std))"
   ]
  },
  {
   "cell_type": "markdown",
   "metadata": {},
   "source": [
    "From the histogram, the distribution is very skewed to the left. It's worth noting that without the replaced values, the third bin from the right would have around 1500 counts, less than the rightmost bin. Regardless, the plot shows that most apps are rated above 4 stars."
   ]
  },
  {
   "cell_type": "code",
   "execution_count": 6,
   "metadata": {},
   "outputs": [
    {
     "data": {
      "image/png": "[encoded data removed]",
      "text/plain": [
       "<Figure size 432x288 with 1 Axes>"
      ]
     },
     "metadata": {},
     "output_type": "display_data"
    }
   ],
   "source": [
    "plt.hist(playstore['rating'], range = (1.0, 5.0))\n",
    "plt.xlabel('ratings')\n",
    "plt.ylabel('counts')\n",
    "plt.show()"
   ]
  },
  {
   "cell_type": "markdown",
   "metadata": {},
   "source": [
    "#### Reviews"
   ]
  },
  {
   "cell_type": "markdown",
   "metadata": {},
   "source": [
    "The mean and median are very far apart, perhaps indicating that a small number of apps have a disproportionately large number of reviews."
   ]
  },
  {
   "cell_type": "code",
   "execution_count": 7,
   "metadata": {},
   "outputs": [
    {
     "name": "stdout",
     "output_type": "stream",
     "text": [
      "reviews\n",
      "minimum: 0\n",
      "maximum: 78158306\n",
      "mean: 216570.14\n",
      "median: 967.0\n"
     ]
    }
   ],
   "source": [
    "review_min = playstore['reviews'].min()\n",
    "review_max = playstore['reviews'].max()\n",
    "review_mean = playstore['reviews'].mean()\n",
    "review_median = playstore['reviews'].median()\n",
    "print('reviews\\nminimum: {}\\nmaximum: {}\\nmean: {:.2f}\\nmedian: {}'.format(review_min, review_max, review_mean, review_median))"
   ]
  },
  {
   "cell_type": "markdown",
   "metadata": {},
   "source": [
    "An initial histogram showed that the majority of apps have less than 8 million reviews (which is still a lot), and about half have less than 1000 reviews:"
   ]
  },
  {
   "cell_type": "code",
   "execution_count": 8,
   "metadata": {},
   "outputs": [
    {
     "name": "stdout",
     "output_type": "stream",
     "text": [
      "4855 apps have less than 1000 reviews\n"
     ]
    }
   ],
   "source": [
    "print(str(len(playstore[ playstore['reviews'] < 1000 ])) + ' apps have less than 1000 reviews')"
   ]
  },
  {
   "cell_type": "markdown",
   "metadata": {},
   "source": [
    "It appears that the other half have 1000 to one or two million reviews, while a few outliers have especially large numbers of reviews up to eight million."
   ]
  },
  {
   "cell_type": "code",
   "execution_count": 9,
   "metadata": {
    "scrolled": true
   },
   "outputs": [
    {
     "data": {
      "image/png": "[encoded data removed]",
      "text/plain": [
       "<Figure size 720x288 with 2 Axes>"
      ]
     },
     "metadata": {},
     "output_type": "display_data"
    }
   ],
   "source": [
    "plt.figure(figsize = (10, 4))\n",
    "\n",
    "# histogram for apps with < 1000 reviews\n",
    "plt.subplot(1, 2, 1)\n",
    "plt.hist(playstore[ playstore['reviews'] < 1000 ]['reviews'])\n",
    "plt.xlabel('reviews')\n",
    "plt.ylabel('counts')\n",
    "plt.title('apps with less than 1000 reviews')\n",
    "\n",
    "# histogram for apps with > 1000 reviews\n",
    "plt.subplot(1, 2, 2)\n",
    "plt.hist(playstore[ (playstore['reviews'] > 1000) & (playstore['reviews'] < 8000000) ]['reviews'])\n",
    "plt.xlabel('reviews')\n",
    "plt.ylabel('counts')\n",
    "plt.xticks(rotation = 45)\n",
    "plt.title('apps with more than 1000 reviews')\n",
    "\n",
    "plt.tight_layout()\n",
    "plt.show()"
   ]
  },
  {
   "cell_type": "markdown",
   "metadata": {},
   "source": [
    "#### Installs"
   ]
  },
  {
   "cell_type": "markdown",
   "metadata": {},
   "source": [
    "The plot shows an upward trend that drops quickly after 1 to 10 million installs. Most apps are installed a considerable number of times but generally don't reach more than 10 million times."
   ]
  },
  {
   "cell_type": "code",
   "execution_count": 10,
   "metadata": {
    "scrolled": true
   },
   "outputs": [
    {
     "data": {
      "image/png": "[encoded data removed]",
      "text/plain": [
       "<Figure size 432x288 with 1 Axes>"
      ]
     },
     "metadata": {},
     "output_type": "display_data"
    }
   ],
   "source": [
    "plt.bar(playstore['installs'].value_counts().sort_index().index, playstore['installs'].value_counts().sort_index().values)\n",
    "plt.xticks(rotation = 60)\n",
    "plt.xlabel('installs')\n",
    "plt.ylabel('counts')\n",
    "plt.show()"
   ]
  },
  {
   "cell_type": "markdown",
   "metadata": {},
   "source": [
    "#### Price"
   ]
  },
  {
   "cell_type": "markdown",
   "metadata": {},
   "source": [
    "The vast majority (92%) of apps are free."
   ]
  },
  {
   "cell_type": "code",
   "execution_count": 11,
   "metadata": {},
   "outputs": [
    {
     "name": "stdout",
     "output_type": "stream",
     "text": [
      "price\n",
      "minimum: 0.0\n",
      "maximum: 400.0\n",
      "8904 apps are free\n"
     ]
    }
   ],
   "source": [
    "price_min = playstore['price'].min()\n",
    "price_max = playstore['price'].max()\n",
    "print('price\\nminimum: {}\\nmaximum: {}'.format(price_min, price_max))\n",
    "print(str(len(playstore[ playstore['price'] == 0 ])) + ' apps are free')"
   ]
  },
  {
   "cell_type": "markdown",
   "metadata": {},
   "source": [
    "Since most apps have a price of 0, a histogram (below left) that includes those is not very informative, so I plotted another graph (below right) that only includes the 700 or so apps that are not free. Of the apps that cost money, most are priced under 50 dollars."
   ]
  },
  {
   "cell_type": "code",
   "execution_count": 12,
   "metadata": {},
   "outputs": [
    {
     "data": {
      "image/png": "[encoded data removed]",
      "text/plain": [
       "<Figure size 720x288 with 2 Axes>"
      ]
     },
     "metadata": {},
     "output_type": "display_data"
    }
   ],
   "source": [
    "plt.figure(figsize = (10, 4))\n",
    "\n",
    "# histogram for app prices (including free ones)\n",
    "plt.subplot(1, 2, 1)\n",
    "plt.hist(playstore['price'])\n",
    "plt.xlabel('price')\n",
    "plt.ylabel('counts')\n",
    "plt.title('including free apps')\n",
    "\n",
    "# histogram for app prices (excluding free ones)\n",
    "plt.subplot(1, 2, 2)\n",
    "plt.hist(playstore[ playstore['price'] > 0 ]['price'])\n",
    "plt.xlabel('price')\n",
    "plt.ylabel('counts')\n",
    "plt.title('excluding free apps')\n",
    "\n",
    "plt.tight_layout()\n",
    "plt.show()"
   ]
  },
  {
   "cell_type": "markdown",
   "metadata": {},
   "source": [
    "Of tangential interest is the bump on the far right of the histogram that excludes free apps. It seems that the most expensive apps were likely made in imitation of the first [I Am Rich](https://en.wikipedia.org/wiki/I_Am_Rich) app and priced arbitrarily. One could argue that such apps don't productively contribute to discussions about the Android app market, but since it appears that people do buy them, I'll leave them in as part of the data."
   ]
  },
  {
   "cell_type": "code",
   "execution_count": 13,
   "metadata": {
    "scrolled": true
   },
   "outputs": [
    {
     "data": {
      "text/html": [
       "<div>\n",
       "<style scoped>\n",
       "    .dataframe tbody tr th:only-of-type {\n",
       "        vertical-align: middle;\n",
       "    }\n",
       "\n",
       "    .dataframe tbody tr th {\n",
       "        vertical-align: top;\n",
       "    }\n",
       "\n",
       "    .dataframe thead th {\n",
       "        text-align: right;\n",
       "    }\n",
       "</style>\n",
       "<table border=\"1\" class=\"dataframe\">\n",
       "  <thead>\n",
       "    <tr style=\"text-align: right;\">\n",
       "      <th></th>\n",
       "      <th>app</th>\n",
       "      <th>category</th>\n",
       "      <th>rating</th>\n",
       "      <th>reviews</th>\n",
       "      <th>size</th>\n",
       "      <th>installs</th>\n",
       "      <th>price</th>\n",
       "      <th>content_rating</th>\n",
       "      <th>genres</th>\n",
       "      <th>last_updated</th>\n",
       "      <th>current_ver</th>\n",
       "      <th>android_ver</th>\n",
       "    </tr>\n",
       "  </thead>\n",
       "  <tbody>\n",
       "    <tr>\n",
       "      <th>3327</th>\n",
       "      <td>most expensive app (H)</td>\n",
       "      <td>family</td>\n",
       "      <td>4.30</td>\n",
       "      <td>6</td>\n",
       "      <td>1.5M</td>\n",
       "      <td>100+</td>\n",
       "      <td>399.99</td>\n",
       "      <td>Everyone</td>\n",
       "      <td>Entertainment</td>\n",
       "      <td>2018-07-16</td>\n",
       "      <td>1.0</td>\n",
       "      <td>7.0</td>\n",
       "    </tr>\n",
       "    <tr>\n",
       "      <th>3465</th>\n",
       "      <td>💎 I'm rich</td>\n",
       "      <td>lifestyle</td>\n",
       "      <td>3.80</td>\n",
       "      <td>718</td>\n",
       "      <td>26M</td>\n",
       "      <td>10000+</td>\n",
       "      <td>399.99</td>\n",
       "      <td>Everyone</td>\n",
       "      <td>Lifestyle</td>\n",
       "      <td>2018-03-11</td>\n",
       "      <td>1.0.0</td>\n",
       "      <td>4.4</td>\n",
       "    </tr>\n",
       "    <tr>\n",
       "      <th>3469</th>\n",
       "      <td>I'm Rich - Trump Edition</td>\n",
       "      <td>lifestyle</td>\n",
       "      <td>3.60</td>\n",
       "      <td>275</td>\n",
       "      <td>7.3M</td>\n",
       "      <td>10000+</td>\n",
       "      <td>400.00</td>\n",
       "      <td>Everyone</td>\n",
       "      <td>Lifestyle</td>\n",
       "      <td>2018-05-03</td>\n",
       "      <td>1.0.1</td>\n",
       "      <td>4.1</td>\n",
       "    </tr>\n",
       "    <tr>\n",
       "      <th>4396</th>\n",
       "      <td>I am rich</td>\n",
       "      <td>lifestyle</td>\n",
       "      <td>3.80</td>\n",
       "      <td>3547</td>\n",
       "      <td>1.8M</td>\n",
       "      <td>100000+</td>\n",
       "      <td>399.99</td>\n",
       "      <td>Everyone</td>\n",
       "      <td>Lifestyle</td>\n",
       "      <td>2018-01-12</td>\n",
       "      <td>2.0</td>\n",
       "      <td>4.0.3</td>\n",
       "    </tr>\n",
       "    <tr>\n",
       "      <th>4398</th>\n",
       "      <td>I am Rich Plus</td>\n",
       "      <td>family</td>\n",
       "      <td>4.00</td>\n",
       "      <td>856</td>\n",
       "      <td>8.7M</td>\n",
       "      <td>10000+</td>\n",
       "      <td>399.99</td>\n",
       "      <td>Everyone</td>\n",
       "      <td>Entertainment</td>\n",
       "      <td>2018-05-19</td>\n",
       "      <td>3.0</td>\n",
       "      <td>4.4</td>\n",
       "    </tr>\n",
       "    <tr>\n",
       "      <th>4400</th>\n",
       "      <td>I Am Rich Premium</td>\n",
       "      <td>finance</td>\n",
       "      <td>4.10</td>\n",
       "      <td>1867</td>\n",
       "      <td>4.7M</td>\n",
       "      <td>10000+</td>\n",
       "      <td>399.99</td>\n",
       "      <td>Everyone</td>\n",
       "      <td>Finance</td>\n",
       "      <td>2017-11-12</td>\n",
       "      <td>1.6</td>\n",
       "      <td>4.0</td>\n",
       "    </tr>\n",
       "    <tr>\n",
       "      <th>4401</th>\n",
       "      <td>I am extremely Rich</td>\n",
       "      <td>lifestyle</td>\n",
       "      <td>2.90</td>\n",
       "      <td>41</td>\n",
       "      <td>2.9M</td>\n",
       "      <td>1000+</td>\n",
       "      <td>379.99</td>\n",
       "      <td>Everyone</td>\n",
       "      <td>Lifestyle</td>\n",
       "      <td>2018-07-01</td>\n",
       "      <td>1.0</td>\n",
       "      <td>4.0</td>\n",
       "    </tr>\n",
       "    <tr>\n",
       "      <th>4402</th>\n",
       "      <td>I am Rich!</td>\n",
       "      <td>finance</td>\n",
       "      <td>3.80</td>\n",
       "      <td>93</td>\n",
       "      <td>22M</td>\n",
       "      <td>1000+</td>\n",
       "      <td>399.99</td>\n",
       "      <td>Everyone</td>\n",
       "      <td>Finance</td>\n",
       "      <td>2017-12-11</td>\n",
       "      <td>1.0</td>\n",
       "      <td>4.1</td>\n",
       "    </tr>\n",
       "    <tr>\n",
       "      <th>4403</th>\n",
       "      <td>I am rich(premium)</td>\n",
       "      <td>finance</td>\n",
       "      <td>3.50</td>\n",
       "      <td>472</td>\n",
       "      <td>965k</td>\n",
       "      <td>1000+</td>\n",
       "      <td>399.99</td>\n",
       "      <td>Everyone</td>\n",
       "      <td>Finance</td>\n",
       "      <td>2017-05-01</td>\n",
       "      <td>3.4</td>\n",
       "      <td>4.4</td>\n",
       "    </tr>\n",
       "    <tr>\n",
       "      <th>4406</th>\n",
       "      <td>I Am Rich Pro</td>\n",
       "      <td>family</td>\n",
       "      <td>4.40</td>\n",
       "      <td>201</td>\n",
       "      <td>2.7M</td>\n",
       "      <td>1000+</td>\n",
       "      <td>399.99</td>\n",
       "      <td>Everyone</td>\n",
       "      <td>Entertainment</td>\n",
       "      <td>2017-05-30</td>\n",
       "      <td>1.54</td>\n",
       "      <td>1.6</td>\n",
       "    </tr>\n",
       "    <tr>\n",
       "      <th>4408</th>\n",
       "      <td>I am rich (Most expensive app)</td>\n",
       "      <td>finance</td>\n",
       "      <td>4.10</td>\n",
       "      <td>129</td>\n",
       "      <td>2.7M</td>\n",
       "      <td>1000+</td>\n",
       "      <td>399.99</td>\n",
       "      <td>Teen</td>\n",
       "      <td>Finance</td>\n",
       "      <td>2017-12-06</td>\n",
       "      <td>2</td>\n",
       "      <td>4.0.3</td>\n",
       "    </tr>\n",
       "    <tr>\n",
       "      <th>4410</th>\n",
       "      <td>I Am Rich</td>\n",
       "      <td>family</td>\n",
       "      <td>3.60</td>\n",
       "      <td>217</td>\n",
       "      <td>4.9M</td>\n",
       "      <td>10000+</td>\n",
       "      <td>389.99</td>\n",
       "      <td>Everyone</td>\n",
       "      <td>Entertainment</td>\n",
       "      <td>2018-06-22</td>\n",
       "      <td>1.5</td>\n",
       "      <td>4.2</td>\n",
       "    </tr>\n",
       "    <tr>\n",
       "      <th>4413</th>\n",
       "      <td>I am Rich</td>\n",
       "      <td>finance</td>\n",
       "      <td>4.30</td>\n",
       "      <td>180</td>\n",
       "      <td>3.8M</td>\n",
       "      <td>1000+</td>\n",
       "      <td>399.99</td>\n",
       "      <td>Everyone</td>\n",
       "      <td>Finance</td>\n",
       "      <td>2018-03-22</td>\n",
       "      <td>1.0</td>\n",
       "      <td>4.2</td>\n",
       "    </tr>\n",
       "    <tr>\n",
       "      <th>4417</th>\n",
       "      <td>I AM RICH PRO PLUS</td>\n",
       "      <td>finance</td>\n",
       "      <td>4.00</td>\n",
       "      <td>36</td>\n",
       "      <td>41M</td>\n",
       "      <td>1000+</td>\n",
       "      <td>399.99</td>\n",
       "      <td>Everyone</td>\n",
       "      <td>Finance</td>\n",
       "      <td>2018-06-25</td>\n",
       "      <td>1.0.2</td>\n",
       "      <td>4.1</td>\n",
       "    </tr>\n",
       "    <tr>\n",
       "      <th>8763</th>\n",
       "      <td>Eu Sou Rico</td>\n",
       "      <td>finance</td>\n",
       "      <td>4.17</td>\n",
       "      <td>0</td>\n",
       "      <td>1.4M</td>\n",
       "      <td>1+</td>\n",
       "      <td>394.99</td>\n",
       "      <td>Everyone</td>\n",
       "      <td>Finance</td>\n",
       "      <td>2018-07-11</td>\n",
       "      <td>1.0</td>\n",
       "      <td>4.0.3</td>\n",
       "    </tr>\n",
       "    <tr>\n",
       "      <th>8780</th>\n",
       "      <td>I'm Rich/Eu sou Rico/أنا غني/我很有錢</td>\n",
       "      <td>lifestyle</td>\n",
       "      <td>4.17</td>\n",
       "      <td>0</td>\n",
       "      <td>40M</td>\n",
       "      <td>1+</td>\n",
       "      <td>399.99</td>\n",
       "      <td>Everyone</td>\n",
       "      <td>Lifestyle</td>\n",
       "      <td>2017-12-01</td>\n",
       "      <td>MONEY</td>\n",
       "      <td>4.1</td>\n",
       "    </tr>\n",
       "  </tbody>\n",
       "</table>\n",
       "</div>"
      ],
      "text/plain": [
       "                                    app   category  rating  reviews  size  \\\n",
       "3327             most expensive app (H)     family    4.30        6  1.5M   \n",
       "3465                         💎 I'm rich  lifestyle    3.80      718   26M   \n",
       "3469           I'm Rich - Trump Edition  lifestyle    3.60      275  7.3M   \n",
       "4396                          I am rich  lifestyle    3.80     3547  1.8M   \n",
       "4398                     I am Rich Plus     family    4.00      856  8.7M   \n",
       "4400                  I Am Rich Premium    finance    4.10     1867  4.7M   \n",
       "4401                I am extremely Rich  lifestyle    2.90       41  2.9M   \n",
       "4402                         I am Rich!    finance    3.80       93   22M   \n",
       "4403                 I am rich(premium)    finance    3.50      472  965k   \n",
       "4406                      I Am Rich Pro     family    4.40      201  2.7M   \n",
       "4408     I am rich (Most expensive app)    finance    4.10      129  2.7M   \n",
       "4410                          I Am Rich     family    3.60      217  4.9M   \n",
       "4413                          I am Rich    finance    4.30      180  3.8M   \n",
       "4417                 I AM RICH PRO PLUS    finance    4.00       36   41M   \n",
       "8763                        Eu Sou Rico    finance    4.17        0  1.4M   \n",
       "8780  I'm Rich/Eu sou Rico/أنا غني/我很有錢  lifestyle    4.17        0   40M   \n",
       "\n",
       "     installs   price content_rating         genres last_updated current_ver  \\\n",
       "3327     100+  399.99       Everyone  Entertainment   2018-07-16         1.0   \n",
       "3465   10000+  399.99       Everyone      Lifestyle   2018-03-11       1.0.0   \n",
       "3469   10000+  400.00       Everyone      Lifestyle   2018-05-03       1.0.1   \n",
       "4396  100000+  399.99       Everyone      Lifestyle   2018-01-12         2.0   \n",
       "4398   10000+  399.99       Everyone  Entertainment   2018-05-19         3.0   \n",
       "4400   10000+  399.99       Everyone        Finance   2017-11-12         1.6   \n",
       "4401    1000+  379.99       Everyone      Lifestyle   2018-07-01         1.0   \n",
       "4402    1000+  399.99       Everyone        Finance   2017-12-11         1.0   \n",
       "4403    1000+  399.99       Everyone        Finance   2017-05-01         3.4   \n",
       "4406    1000+  399.99       Everyone  Entertainment   2017-05-30        1.54   \n",
       "4408    1000+  399.99           Teen        Finance   2017-12-06           2   \n",
       "4410   10000+  389.99       Everyone  Entertainment   2018-06-22         1.5   \n",
       "4413    1000+  399.99       Everyone        Finance   2018-03-22         1.0   \n",
       "4417    1000+  399.99       Everyone        Finance   2018-06-25       1.0.2   \n",
       "8763       1+  394.99       Everyone        Finance   2018-07-11         1.0   \n",
       "8780       1+  399.99       Everyone      Lifestyle   2017-12-01       MONEY   \n",
       "\n",
       "     android_ver  \n",
       "3327         7.0  \n",
       "3465         4.4  \n",
       "3469         4.1  \n",
       "4396       4.0.3  \n",
       "4398         4.4  \n",
       "4400         4.0  \n",
       "4401         4.0  \n",
       "4402         4.1  \n",
       "4403         4.4  \n",
       "4406         1.6  \n",
       "4408       4.0.3  \n",
       "4410         4.2  \n",
       "4413         4.2  \n",
       "4417         4.1  \n",
       "8763       4.0.3  \n",
       "8780         4.1  "
      ]
     },
     "execution_count": 13,
     "metadata": {},
     "output_type": "execute_result"
    }
   ],
   "source": [
    "playstore[ playstore['price'] > 350 ]"
   ]
  },
  {
   "cell_type": "markdown",
   "metadata": {},
   "source": [
    "### Rating given reviews\n",
    "\n",
    "Assuming that ratings represents an app's success, I was curious to see whether the number of reviews can reliably indicate how successful apps are."
   ]
  },
  {
   "cell_type": "markdown",
   "metadata": {},
   "source": [
    "#### Scatterplot of the two variables\n",
    "\n",
    "In general, apps rated below 3.5 tend to have fewer reviews compared to more highly rated apps, which can even reach nearly 80 million reviews."
   ]
  },
  {
   "cell_type": "code",
   "execution_count": 14,
   "metadata": {
    "scrolled": false
   },
   "outputs": [
    {
     "data": {
      "image/png": "[encoded data removed]",
      "text/plain": [
       "<Figure size 432x432 with 1 Axes>"
      ]
     },
     "metadata": {},
     "output_type": "display_data"
    }
   ],
   "source": [
    "plt.figure(figsize = (6,6))\n",
    "plt.scatter(playstore['reviews'], playstore['rating'], alpha = 0.3)\n",
    "plt.xlabel('number of reviews')\n",
    "plt.ylabel('rating')\n",
    "plt.show()"
   ]
  },
  {
   "cell_type": "markdown",
   "metadata": {},
   "source": [
    "#### Linear regression\n",
    "\n",
    "Before doing using linear regression to check the relationship of the two variables, based on the scatterplot above, I guessed that there would be a positive correlation, though it might not be very strong."
   ]
  },
  {
   "cell_type": "code",
   "execution_count": 15,
   "metadata": {},
   "outputs": [
    {
     "name": "stdout",
     "output_type": "stream",
     "text": [
      "coefficient/slope: 1.4895833953454203e-08\n",
      "intercept: 4.169290570239675\n",
      "r^2 score: 0.003038810095198907\n"
     ]
    }
   ],
   "source": [
    "reviews_model = LinearRegression().fit(playstore[ ['reviews'] ], playstore['rating'])\n",
    "print('coefficient/slope: ' + str(reviews_model.coef_[0]))\n",
    "print('intercept: ' + str(reviews_model.intercept_))\n",
    "print('r^2 score: ' + str(reviews_model.score(playstore[ ['reviews'] ], playstore['rating'])))"
   ]
  },
  {
   "cell_type": "markdown",
   "metadata": {},
   "source": [
    "The results of the model show an extremely low correlation coefficient (1.49e-8) and low $r^2$ score (0.003) between rating and reviews, meaning that predicting ratings with the number of reviews is not useful. It seems that apps with enormous numbers of reviews fall in the range of 4 to 4.7 stars. In general, that range of ratings corresponds to an increase in reviews."
   ]
  },
  {
   "cell_type": "markdown",
   "metadata": {},
   "source": [
    "#### Check for any clusters"
   ]
  },
  {
   "cell_type": "markdown",
   "metadata": {},
   "source": [
    "Try grouping by category to see if different categories of apps have different relationships between their ratings and number of reviews. I tried showing all the categories on the plot below, but that was too many to be useful, so I picked the top three categories (family, game, and tools) to make the plot."
   ]
  },
  {
   "cell_type": "code",
   "execution_count": 16,
   "metadata": {},
   "outputs": [],
   "source": [
    "sns.set_palette('colorblind')"
   ]
  },
  {
   "cell_type": "code",
   "execution_count": 17,
   "metadata": {
    "scrolled": false
   },
   "outputs": [
    {
     "data": {
      "image/png": "[encoded data removed]",
      "text/plain": [
       "<Figure size 440x360 with 1 Axes>"
      ]
     },
     "metadata": {},
     "output_type": "display_data"
    }
   ],
   "source": [
    "top_categories = playstore.copy()[ (playstore['category'] == 'family') | (playstore['category'] == 'game') | (playstore['category'] == 'tools')]\n",
    "\n",
    "sns.relplot(x = 'reviews', y = 'rating', data = top_categories, hue = 'category')\n",
    "plt.xlabel('number of reviews')\n",
    "plt.ylabel('rating')\n",
    "plt.show()"
   ]
  },
  {
   "cell_type": "markdown",
   "metadata": {},
   "source": [
    "From the above plot, there are no obvious clusters visible, but some observations can still be made:\n",
    "\n",
    "- Ratings of game apps are more concentrated, mostly falling between 4 and 5.\n",
    "- Family apps have a wide range of ratings and typically don't get many reviews compared to the other two categories.\n",
    "- Ratings of tools apps are varied as well, though they, along with game apps, can get a large number of reviews.\n",
    "\n",
    "The bottom line is that category doesn't affect rating and reviews much."
   ]
  },
  {
   "cell_type": "markdown",
   "metadata": {},
   "source": [
    "Try grouping by installs instead:"
   ]
  },
  {
   "cell_type": "code",
   "execution_count": 18,
   "metadata": {
    "scrolled": false
   },
   "outputs": [
    {
     "data": {
      "image/png": "[encoded data removed]",
      "text/plain": [
       "<Figure size 467x360 with 1 Axes>"
      ]
     },
     "metadata": {},
     "output_type": "display_data"
    }
   ],
   "source": [
    "# group according to the 4 highest install brackets\n",
    "top_installs = playstore.copy()[ (playstore['installs'] == '1000000000+') | (playstore['installs'] == '100000000+') | (playstore['installs'] == '10000000+') | (playstore['installs'] == '1000000+') ]\n",
    "\n",
    "sns.relplot(x = 'reviews', y = 'rating', data = top_installs, hue = 'installs')\n",
    "plt.xlabel('number of reviews')\n",
    "plt.ylabel('rating')\n",
    "plt.title('4 installs brackets')\n",
    "plt.show()"
   ]
  },
  {
   "cell_type": "code",
   "execution_count": 19,
   "metadata": {},
   "outputs": [
    {
     "data": {
      "image/png": "[encoded data removed]",
      "text/plain": [
       "<Figure size 467x360 with 1 Axes>"
      ]
     },
     "metadata": {},
     "output_type": "display_data"
    }
   ],
   "source": [
    "# group according to the 3 highest install brackets\n",
    "top_installs = top_installs[ (top_installs['installs'] == '1000000000+') | (top_installs['installs'] == '100000000+') | (top_installs['installs'] == '10000000+') ]\n",
    "\n",
    "sns.relplot(x = 'reviews', y = 'rating', data = top_installs, hue = 'installs')\n",
    "plt.xlabel('number of reviews')\n",
    "plt.ylabel('rating')\n",
    "plt.title('3 installs brackets')\n",
    "plt.show()"
   ]
  },
  {
   "cell_type": "code",
   "execution_count": 20,
   "metadata": {},
   "outputs": [
    {
     "data": {
      "image/png": "[encoded data removed]",
      "text/plain": [
       "<Figure size 467x360 with 1 Axes>"
      ]
     },
     "metadata": {},
     "output_type": "display_data"
    }
   ],
   "source": [
    "# group according to the 2 highest install brackets\n",
    "top_installs = top_installs[ (top_installs['installs'] == '1000000000+') | (top_installs['installs'] == '100000000+') ]\n",
    "\n",
    "sns.relplot(x = 'reviews', y = 'rating', data = top_installs, hue = 'installs')\n",
    "plt.xlabel('number of reviews')\n",
    "plt.ylabel('rating')\n",
    "plt.title('2 installs brackets')\n",
    "plt.show()"
   ]
  },
  {
   "cell_type": "markdown",
   "metadata": {},
   "source": [
    "We can see slightly clearer groupings when differentiating by number of installs, where the more reviews an app has, the more installs it has gotten. However, it would still be hard to use actual clustering and predict ratings that way."
   ]
  },
  {
   "cell_type": "markdown",
   "metadata": {},
   "source": [
    "I discovered that the number of reviews doesn't necessarily have much to do with rating even considering categories. The most interesting observation for me was that installs might be related to the number of reviews, at least for the higher install brackets, which makes intuitive sense (but doesn't really help answer the research questions)."
   ]
  },
  {
   "cell_type": "markdown",
   "metadata": {},
   "source": [
    "### Better indicator of success: rating or installs"
   ]
  },
  {
   "cell_type": "markdown",
   "metadata": {},
   "source": [
    "Given the extremely weak correlation found in the previous section, I started to question the assumption that rating best represents an app's success in the market. There is another possible indicator: how much the app is installed.  \n",
    "\n",
    "To check whether rating or installs is the more reliable indicator, I tried using multivariate regression models to predict rating and installs with the other relevant variables."
   ]
  },
  {
   "cell_type": "markdown",
   "metadata": {},
   "source": [
    "#### For rating:"
   ]
  },
  {
   "cell_type": "code",
   "execution_count": 21,
   "metadata": {},
   "outputs": [],
   "source": [
    "# map installs categories to integers\n",
    "installs_map = {'0': 0, '1+': 1, '10+': 2, '100+': 3, '1000+': 4, '10000+': 5, '100000+': 6, '1000000+': 7, '10000000+': 8, '100000000+': 9, '1000000000+': 10}\n",
    "playstore['installs_map'] = playstore['installs'].map(installs_map)"
   ]
  },
  {
   "cell_type": "code",
   "execution_count": 22,
   "metadata": {},
   "outputs": [
    {
     "name": "stdout",
     "output_type": "stream",
     "text": [
      "reviews coefficient = 0.0000\n",
      "installs_map coefficient = 0.0155\n",
      "price coefficient = -0.0005\n",
      "r-squared = 0.0068\n"
     ]
    }
   ],
   "source": [
    "inputs = ['reviews', 'installs_map', 'price']\n",
    "rating_multivar_model = LinearRegression().fit(playstore[inputs], playstore['rating'])\n",
    "for i in range(len(inputs)):\n",
    "    print(inputs[i] + ' coefficient = {:.4f}'.format(rating_multivar_model.coef_[i]))\n",
    "print('r-squared = {:.4f}'.format(rating_multivar_model.score(playstore[inputs], playstore['rating'])))"
   ]
  },
  {
   "cell_type": "markdown",
   "metadata": {},
   "source": [
    "At 0.007, the $r^2$ score for this model is almost negligible, suggesting that rating cannot be reliably predicted by the other properties of an app."
   ]
  },
  {
   "cell_type": "markdown",
   "metadata": {},
   "source": [
    "#### For installs:"
   ]
  },
  {
   "cell_type": "code",
   "execution_count": 23,
   "metadata": {},
   "outputs": [
    {
     "name": "stdout",
     "output_type": "stream",
     "text": [
      "rating coefficient = 0.2224\n",
      "reviews coefficient = 0.0000\n",
      "price coefficient = -0.0058\n",
      "r-squared = 0.0492\n"
     ]
    }
   ],
   "source": [
    "inputs = ['rating', 'reviews', 'price']\n",
    "reviews_multivar_model = LinearRegression().fit(playstore[inputs], playstore['installs_map'])\n",
    "for i in range(len(inputs)):\n",
    "    print(inputs[i] + ' coefficient = {:.4f}'.format(reviews_multivar_model.coef_[i]))\n",
    "print('r-squared = {:.4f}'.format(reviews_multivar_model.score(playstore[inputs], playstore['installs_map'])))"
   ]
  },
  {
   "cell_type": "markdown",
   "metadata": {},
   "source": [
    "The $r^2$ score is 0.05, still very low but better than the score of the last model. As a result, installs is probably slightly better than rating as the indicator of app success despite the inability to predict either from other variables."
   ]
  },
  {
   "cell_type": "markdown",
   "metadata": {},
   "source": [
    "### Other things to do for the final submission\n",
    "\n",
    "Compare installs relationship with other variables\n",
    "\n",
    "#### installs given other variables\n",
    "\n",
    "- installs vs rating  \n",
    "- installs vs reviews\n",
    "- installs vs price"
   ]
  },
  {
   "cell_type": "markdown",
   "metadata": {},
   "source": [
    "## Interpretation and conclusions\n",
    "\n",
    "At first assuming rating to be the best indicator of success, I found that it in fact cannot be reliably predicted by the number of reviews or by all other relevant variables combined. Using linear regression to model the relationship between ratings and reviews, the correlation coefficient and $r^2$ score were both low (1.49e-8 and 0.003 respectively), suggesting that though the relationship may be slightly positive, ratings and reviews are not strongly related.  \n",
    "\n",
    "Using multivariate linear regression to predict ratings and installs, the two variables most likely to indicate an app's success, I found that neither of them can be accurately modeled even by the combination of three other variables. The model that predicts ratings has an $r^2$ score of 0.007, while the one that predicts installs has an $r^2$ of approximately 0.05. Though both scores are low, the times an app is installed appears to be the better indicator of success (despite the installs column being rough brackets instead of actual numbers).\n",
    "\n",
    "It seems that there is no reliable way to predict what kind of apps tend to be more successful in the Android app market, at least not by using this approach. One of the possible factors that resulted in this is that the dataset is a small subset of all apps available in the Play Store as of August 2018 (it is estimated that there were about 3 million apps at the time)."
   ]
  },
  {
   "cell_type": "markdown",
   "metadata": {},
   "source": [
    "## Limitations\n",
    "\n",
    "- As the data was scraped in early August of 2018, it isn't the most recent. The dataset also does not contain all possible instances.\n",
    "- There is no column for the date when an app was first released although this information is listed in the Play Store. As a result, the columns that track recent updates and app versions lose some context.\n",
    "- There were multiple entries with the same name in the app column, and some were listed with different categories and different numbers of reviews. I removed these duplicate rows, which may have affected the data.\n",
    "- The price column might not account for in-app purchase costs because the app is listed as free in the Play Store.\n",
    "- The 15% of missing values in the rating column were replaced with the mean value, which affects the accuracy of the data.\n",
    "- The values in the installs column are threshold indicators, not the actual values, which aren't displayed in the Play Store."
   ]
  },
  {
   "cell_type": "markdown",
   "metadata": {},
   "source": [
    "## Acknowledgements\n",
    "\n",
    "Thanks to:\n",
    "- The TAs and other students who gave me feedback on different phases of the project.\n",
    "- Prof. Mimno and the course staff, for teaching the material (obviously) and answering questions on Campuswire.\n",
    "- [Kaggle](https://www.kaggle.com/datasets), for the raw dataset.\n",
    "- Countless [Stack Overflow](https://stackoverflow.com/questions) pages that helped me troubleshoot.\n",
    "- The [pandas](https://pandas.pydata.org/docs/) documentation, mainly for the cheat sheet.\n",
    "- The [matplotlib](https://matplotlib.org/3.1.1/index.html) documentation, which is slightly confusing but still helped.\n",
    "- Documentation or tutorials for other packages/tools used, including [numpy](https://numpy.org/doc/), [sklearn](https://scikit-learn.org/stable/), [seaborn](https://seaborn.pydata.org/), etc."
   ]
  },
  {
   "cell_type": "markdown",
   "metadata": {},
   "source": [
    "<hr />"
   ]
  },
  {
   "cell_type": "markdown",
   "metadata": {},
   "source": [
    "### Questions\n",
    "\n",
    "- (How) should I evaluate significance if the results I got are not that meaningful (e.g. very low correlation scores)?\n",
    "- I'm thinking about replacing the original NaN values in the rating column with numbers taken randomly from a normal distribution (with mean 4.17 and standard deviation 0.54) instead of just with the mean. Does that make sense or is it completely unnecessary?\n",
    "- Any problems you see that I should be aware of?\n",
    "\n",
    "Thanks!"
   ]
  }
 ],
 "metadata": {
  "kernelspec": {
   "display_name": "Python 3",
   "language": "python",
   "name": "python3"
  },
  "language_info": {
   "codemirror_mode": {
    "name": "ipython",
    "version": 3
   },
   "file_extension": ".py",
   "mimetype": "text/x-python",
   "name": "python",
   "nbconvert_exporter": "python",
   "pygments_lexer": "ipython3",
   "version": "3.6.5"
  }
 },
 "nbformat": 4,
 "nbformat_minor": 2
}
