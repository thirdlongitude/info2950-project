{
 "cells": [
  {
   "cell_type": "markdown",
   "metadata": {},
   "source": [
    "# Phase 2"
   ]
  },
  {
   "cell_type": "code",
   "execution_count": 1,
   "metadata": {},
   "outputs": [],
   "source": [
    "import pandas as pd\n",
    "import numpy as np\n",
    "import matplotlib.pyplot as plt"
   ]
  },
  {
   "cell_type": "markdown",
   "metadata": {},
   "source": [
    "## Research questions"
   ]
  },
  {
   "cell_type": "markdown",
   "metadata": {},
   "source": [
    "- Does the number of reviews indicate an app's popularity? People could leave reviews for both good and bad user experiences.\n",
    "- How related are an app's number of installations and rating? I've seen campaigns where, if you download a game, you earn a small reward on a messaging app (Line). I don't think there are a lot of similar situations, but it could be worth checking.\n",
    "- Does any specific category tend to be more popular than others?\n",
    "- Does any category tend to be more expensive?\n",
    "- How does having a more recent update correlate with ratings or number of installs?\n",
    "- Does a higher price result in lower installs?"
   ]
  },
  {
   "cell_type": "markdown",
   "metadata": {},
   "source": [
    "## Data collection and cleaning"
   ]
  },
  {
   "cell_type": "markdown",
   "metadata": {},
   "source": [
    "See data_cleaning.ipynb"
   ]
  },
  {
   "cell_type": "markdown",
   "metadata": {},
   "source": [
    "## Data description"
   ]
  },
  {
   "cell_type": "markdown",
   "metadata": {},
   "source": [
    "The dataset contains information on apps in the Google Play Store as of August 2018. Each row is an entry for one app, and there are 12 columns, shown below.  \n",
    "- The 'app' column contains the apps' names.\n",
    "- 'category' is the category an app belongs to. One app only belongs to one category, as opposed to 'genres', of which each app can have multiple.\n",
    "- 'rating' is the rating out of 5.\n",
    "- 'reviews' is the number of user reviews.\n",
    "- 'size' is the size of the app.\n",
    "- 'installs' is the approximate number of times an app was installed. For example, 500000 means that an app was downloaded more than 500,000 times.\n",
    "- 'last_updated' is the last time an app was updated.\n",
    "- 'current_ver' is the most current version of an app.\n",
    "- 'android_ver' is the oldest Android version an app can run on."
   ]
  },
  {
   "cell_type": "code",
   "execution_count": 2,
   "metadata": {},
   "outputs": [
    {
     "data": {
      "text/html": [
       "<div>\n",
       "<style scoped>\n",
       "    .dataframe tbody tr th:only-of-type {\n",
       "        vertical-align: middle;\n",
       "    }\n",
       "\n",
       "    .dataframe tbody tr th {\n",
       "        vertical-align: top;\n",
       "    }\n",
       "\n",
       "    .dataframe thead th {\n",
       "        text-align: right;\n",
       "    }\n",
       "</style>\n",
       "<table border=\"1\" class=\"dataframe\">\n",
       "  <thead>\n",
       "    <tr style=\"text-align: right;\">\n",
       "      <th></th>\n",
       "      <th>app</th>\n",
       "      <th>category</th>\n",
       "      <th>rating</th>\n",
       "      <th>reviews</th>\n",
       "      <th>size</th>\n",
       "      <th>installs</th>\n",
       "      <th>price</th>\n",
       "      <th>content_rating</th>\n",
       "      <th>genres</th>\n",
       "      <th>last_updated</th>\n",
       "      <th>current_ver</th>\n",
       "      <th>android_ver</th>\n",
       "    </tr>\n",
       "  </thead>\n",
       "  <tbody>\n",
       "    <tr>\n",
       "      <th>0</th>\n",
       "      <td>Photo Editor &amp; Candy Camera &amp; Grid &amp; ScrapBook</td>\n",
       "      <td>art_and_design</td>\n",
       "      <td>4.1</td>\n",
       "      <td>159</td>\n",
       "      <td>19M</td>\n",
       "      <td>10000</td>\n",
       "      <td>0.0</td>\n",
       "      <td>Everyone</td>\n",
       "      <td>Art &amp; Design</td>\n",
       "      <td>2018-01-07</td>\n",
       "      <td>1.0.0</td>\n",
       "      <td>4.0.3</td>\n",
       "    </tr>\n",
       "    <tr>\n",
       "      <th>1</th>\n",
       "      <td>Coloring book moana</td>\n",
       "      <td>art_and_design</td>\n",
       "      <td>3.9</td>\n",
       "      <td>967</td>\n",
       "      <td>14M</td>\n",
       "      <td>500000</td>\n",
       "      <td>0.0</td>\n",
       "      <td>Everyone</td>\n",
       "      <td>Art &amp; Design;Pretend Play</td>\n",
       "      <td>2018-01-15</td>\n",
       "      <td>2.0.0</td>\n",
       "      <td>4.0.3</td>\n",
       "    </tr>\n",
       "    <tr>\n",
       "      <th>2</th>\n",
       "      <td>U Launcher Lite – FREE Live Cool Themes, Hide ...</td>\n",
       "      <td>art_and_design</td>\n",
       "      <td>4.7</td>\n",
       "      <td>87510</td>\n",
       "      <td>8.7M</td>\n",
       "      <td>5000000</td>\n",
       "      <td>0.0</td>\n",
       "      <td>Everyone</td>\n",
       "      <td>Art &amp; Design</td>\n",
       "      <td>2018-08-01</td>\n",
       "      <td>1.2.4</td>\n",
       "      <td>4.0.3</td>\n",
       "    </tr>\n",
       "    <tr>\n",
       "      <th>3</th>\n",
       "      <td>Sketch - Draw &amp; Paint</td>\n",
       "      <td>art_and_design</td>\n",
       "      <td>4.5</td>\n",
       "      <td>215644</td>\n",
       "      <td>25M</td>\n",
       "      <td>50000000</td>\n",
       "      <td>0.0</td>\n",
       "      <td>Teen</td>\n",
       "      <td>Art &amp; Design</td>\n",
       "      <td>2018-06-08</td>\n",
       "      <td>Varies with device</td>\n",
       "      <td>4.2</td>\n",
       "    </tr>\n",
       "    <tr>\n",
       "      <th>4</th>\n",
       "      <td>Pixel Draw - Number Art Coloring Book</td>\n",
       "      <td>art_and_design</td>\n",
       "      <td>4.3</td>\n",
       "      <td>967</td>\n",
       "      <td>2.8M</td>\n",
       "      <td>100000</td>\n",
       "      <td>0.0</td>\n",
       "      <td>Everyone</td>\n",
       "      <td>Art &amp; Design;Creativity</td>\n",
       "      <td>2018-06-20</td>\n",
       "      <td>1.1</td>\n",
       "      <td>4.4</td>\n",
       "    </tr>\n",
       "  </tbody>\n",
       "</table>\n",
       "</div>"
      ],
      "text/plain": [
       "                                                 app        category  rating  \\\n",
       "0     Photo Editor & Candy Camera & Grid & ScrapBook  art_and_design     4.1   \n",
       "1                                Coloring book moana  art_and_design     3.9   \n",
       "2  U Launcher Lite – FREE Live Cool Themes, Hide ...  art_and_design     4.7   \n",
       "3                              Sketch - Draw & Paint  art_and_design     4.5   \n",
       "4              Pixel Draw - Number Art Coloring Book  art_and_design     4.3   \n",
       "\n",
       "   reviews  size  installs  price content_rating                     genres  \\\n",
       "0      159   19M     10000    0.0       Everyone               Art & Design   \n",
       "1      967   14M    500000    0.0       Everyone  Art & Design;Pretend Play   \n",
       "2    87510  8.7M   5000000    0.0       Everyone               Art & Design   \n",
       "3   215644   25M  50000000    0.0           Teen               Art & Design   \n",
       "4      967  2.8M    100000    0.0       Everyone    Art & Design;Creativity   \n",
       "\n",
       "  last_updated         current_ver android_ver  \n",
       "0   2018-01-07               1.0.0       4.0.3  \n",
       "1   2018-01-15               2.0.0       4.0.3  \n",
       "2   2018-08-01               1.2.4       4.0.3  \n",
       "3   2018-06-08  Varies with device         4.2  \n",
       "4   2018-06-20                 1.1         4.4  "
      ]
     },
     "execution_count": 2,
     "metadata": {},
     "output_type": "execute_result"
    }
   ],
   "source": [
    "playstore = pd.read_csv('playstore_data.csv', parse_dates = ['last_updated'], infer_datetime_format = True)\n",
    "playstore.head()"
   ]
  },
  {
   "cell_type": "markdown",
   "metadata": {},
   "source": [
    "Kaggle user Lavanya Gupta created this dataset by scraping the Google Play Store. Presumably, the data collection occurred on or around August 8, 2018, since this date is the latest in the 'last_updated' column. Gupta writes that she could not find publicly available data on the Google Play Store, while there were many datasets on the Apple App Store. Upon looking into this issue, she found that the Google Play Store uses \"sophisticated modern-day techniques (like dynamic page load) using JQuery\", which makes scraping more difficult. About potential uses for her dataset, she writes that \"\\[a\\]ctionable insights can be drawn for developers to work on and capture the Android market\"."
   ]
  },
  {
   "cell_type": "markdown",
   "metadata": {},
   "source": [
    "After downloading this dataset, I converted some of the columns to types that would be easier to use for calculating, for example, changing the number of reviews to integer values and changing 'last_updated' to datetime values. I discovered that some rows were duplicate entries and had to remove them. I also removed a column, 'type', which identified whether apps were free, because the 'price' column could serve this function as well."
   ]
  },
  {
   "cell_type": "markdown",
   "metadata": {},
   "source": [
    "Some information, such as the precise number of downloads, could not be collected through scraping because the Play Store does not list them. This dataset is a subset of all possible instances; there are 9660 rows (apps) while there were millions of apps in the Google Play Store even in 2018. The criteria for being collected into this dataset is unclear. The original dataset can be found at https://www.kaggle.com/lava18/google-play-store-apps."
   ]
  },
  {
   "cell_type": "markdown",
   "metadata": {},
   "source": [
    "## Data limitations"
   ]
  },
  {
   "cell_type": "markdown",
   "metadata": {},
   "source": [
    "- As the data was scraped in early August of 2018, it isn't the most recent. The dataset also does not contain all possible instances.\n",
    "- There is no column for the date when an app was first released although this information is listed in the Play Store. As a result, the columns 'last_updated' and 'current_ver' lose some context.\n",
    "- There were multiple entries with the same name in the 'app' column, and some were listed with different categories and different numbers of reviews. I removed these duplicate rows, which may have affected the data.\n",
    "- The 'price' column might not account for in-app purchase costs because the app is listed as free in the Play Store.\n",
    "- The 'rating' column is missing 15% of its values.\n",
    "- The values in 'installs' are threshold indicators, not the actual values, which aren't displayed in the Play Store."
   ]
  },
  {
   "cell_type": "markdown",
   "metadata": {},
   "source": [
    "## Exploratory data analysis"
   ]
  },
  {
   "cell_type": "markdown",
   "metadata": {},
   "source": [
    "### Single variables"
   ]
  },
  {
   "cell_type": "markdown",
   "metadata": {},
   "source": [
    "#### 1. Look at what categories there are"
   ]
  },
  {
   "cell_type": "code",
   "execution_count": 3,
   "metadata": {
    "scrolled": false
   },
   "outputs": [
    {
     "data": {
      "text/plain": [
       "count       9660\n",
       "unique        33\n",
       "top       family\n",
       "freq        1832\n",
       "Name: category, dtype: object"
      ]
     },
     "execution_count": 3,
     "metadata": {},
     "output_type": "execute_result"
    }
   ],
   "source": [
    "playstore['category'].describe()"
   ]
  },
  {
   "cell_type": "code",
   "execution_count": 4,
   "metadata": {
    "scrolled": true
   },
   "outputs": [
    {
     "data": {
      "text/plain": [
       "family                 1832\n",
       "game                    959\n",
       "tools                   827\n",
       "business                420\n",
       "medical                 395\n",
       "personalization         376\n",
       "productivity            374\n",
       "lifestyle               370\n",
       "finance                 345\n",
       "sports                  325\n",
       "communication           315\n",
       "health_and_fitness      288\n",
       "photography             281\n",
       "news_and_magazines      254\n",
       "social                  239\n",
       "books_and_reference     222\n",
       "travel_and_local        219\n",
       "shopping                202\n",
       "dating                  171\n",
       "video_players           163\n",
       "maps_and_navigation     131\n",
       "education               119\n",
       "food_and_drink          112\n",
       "entertainment           102\n",
       "auto_and_vehicles        85\n",
       "libraries_and_demo       84\n",
       "weather                  79\n",
       "house_and_home           74\n",
       "events                   64\n",
       "art_and_design           64\n",
       "parenting                60\n",
       "comics                   56\n",
       "beauty                   53\n",
       "Name: category, dtype: int64"
      ]
     },
     "execution_count": 4,
     "metadata": {},
     "output_type": "execute_result"
    }
   ],
   "source": [
    "playstore['category'].value_counts()"
   ]
  },
  {
   "cell_type": "markdown",
   "metadata": {},
   "source": [
    "There's a surprisingly high number of family apps, more than the next two biggest categories combined. After game and tool apps, there is another gap of about 400 until the next biggest category, business."
   ]
  },
  {
   "cell_type": "markdown",
   "metadata": {},
   "source": [
    "#### 2. Look at the distribution of number of installs"
   ]
  },
  {
   "cell_type": "code",
   "execution_count": 5,
   "metadata": {},
   "outputs": [
    {
     "data": {
      "text/plain": [
       "<matplotlib.axes._subplots.AxesSubplot at 0x247574b4390>"
      ]
     },
     "execution_count": 5,
     "metadata": {},
     "output_type": "execute_result"
    },
    {
     "data": {
      "image/png": "[encoded data removed]",
      "text/plain": [
       "<Figure size 432x288 with 1 Axes>"
      ]
     },
     "metadata": {},
     "output_type": "display_data"
    }
   ],
   "source": [
    "playstore['installs'].value_counts().sort_index().plot(kind = 'bar')"
   ]
  },
  {
   "cell_type": "markdown",
   "metadata": {},
   "source": [
    "This distribution looks weird because of the alternating tall and short bars, but it could be because of the way bins are determined. For example, if 10-100 installs was one bin and 100-1000 installs was another, the plot would probably show a clearer upward trend that drops sharply after 10 million installs."
   ]
  },
  {
   "cell_type": "markdown",
   "metadata": {},
   "source": [
    "#### 3. The 'rating' column"
   ]
  },
  {
   "cell_type": "code",
   "execution_count": 6,
   "metadata": {},
   "outputs": [
    {
     "name": "stdout",
     "output_type": "stream",
     "text": [
      "rating\n",
      "minimum: 1.0\n",
      "maximum: 5.0\n",
      "mean: 4.17\n",
      "standard deviation: 0.54\n"
     ]
    }
   ],
   "source": [
    "rating_min = playstore['rating'].min()\n",
    "rating_max = playstore['rating'].max()\n",
    "rating_mean = playstore['rating'].mean()\n",
    "rating_std = playstore['rating'].std()\n",
    "print('rating\\nminimum: {:.1f}\\nmaximum: {:.1f}\\nmean: {:.2f}\\nstandard deviation: {:.2f}'.format(rating_min, rating_max, rating_mean, rating_std))"
   ]
  },
  {
   "cell_type": "code",
   "execution_count": 7,
   "metadata": {
    "scrolled": false
   },
   "outputs": [
    {
     "name": "stderr",
     "output_type": "stream",
     "text": [
      "C:\\ProgramData\\Anaconda3\\lib\\site-packages\\numpy\\lib\\function_base.py:780: RuntimeWarning: invalid value encountered in greater_equal\n",
      "  keep = (tmp_a >= first_edge)\n",
      "C:\\ProgramData\\Anaconda3\\lib\\site-packages\\numpy\\lib\\function_base.py:781: RuntimeWarning: invalid value encountered in less_equal\n",
      "  keep &= (tmp_a <= last_edge)\n"
     ]
    },
    {
     "data": {
      "image/png": "[encoded data removed]",
      "text/plain": [
       "<Figure size 432x288 with 1 Axes>"
      ]
     },
     "metadata": {},
     "output_type": "display_data"
    }
   ],
   "source": [
    "plt.hist(playstore['rating'], range = (1.0, 5.0))\n",
    "plt.xlabel('ratings')\n",
    "plt.ylabel('counts')\n",
    "plt.show()"
   ]
  },
  {
   "cell_type": "markdown",
   "metadata": {},
   "source": [
    "The mean rating is fairly high and the standard deviation not too large. From the histogram, the distribution is very left-skewed."
   ]
  },
  {
   "cell_type": "markdown",
   "metadata": {},
   "source": [
    "#### 4. The 'reviews' column"
   ]
  },
  {
   "cell_type": "code",
   "execution_count": 8,
   "metadata": {},
   "outputs": [
    {
     "name": "stdout",
     "output_type": "stream",
     "text": [
      "reviews\n",
      "minimum: 0\n",
      "maximum: 78158306\n",
      "mean: 216570.14\n",
      "median: 967.0\n"
     ]
    }
   ],
   "source": [
    "review_min = playstore['reviews'].min()\n",
    "review_max = playstore['reviews'].max()\n",
    "review_mean = playstore['reviews'].mean()\n",
    "review_median = playstore['reviews'].median()\n",
    "print('reviews\\nminimum: {}\\nmaximum: {}\\nmean: {:.2f}\\nmedian: {}'.format(review_min, review_max, review_mean, review_median))"
   ]
  },
  {
   "cell_type": "markdown",
   "metadata": {},
   "source": [
    "The mean and median are very far apart, perhaps indicating that a small number of apps have a disproportionately large number of reviews."
   ]
  },
  {
   "cell_type": "code",
   "execution_count": 9,
   "metadata": {
    "scrolled": true
   },
   "outputs": [
    {
     "data": {
      "image/png": "[encoded data removed]",
      "text/plain": [
       "<Figure size 432x288 with 1 Axes>"
      ]
     },
     "metadata": {},
     "output_type": "display_data"
    }
   ],
   "source": [
    "plt.hist(playstore['reviews'])\n",
    "plt.xlabel('reviews')\n",
    "plt.ylabel('counts')\n",
    "plt.show()"
   ]
  },
  {
   "cell_type": "code",
   "execution_count": 10,
   "metadata": {
    "scrolled": true
   },
   "outputs": [
    {
     "data": {
      "text/plain": [
       "4855"
      ]
     },
     "execution_count": 10,
     "metadata": {},
     "output_type": "execute_result"
    }
   ],
   "source": [
    "len(playstore[playstore['reviews'] < 1000])"
   ]
  },
  {
   "cell_type": "markdown",
   "metadata": {},
   "source": [
    "An initial histogram shows that the majority of apps have less than 8 million reviews (which is still a lot), and about half have less than 1000 reviews."
   ]
  },
  {
   "cell_type": "code",
   "execution_count": 11,
   "metadata": {
    "scrolled": true
   },
   "outputs": [
    {
     "data": {
      "image/png": "[encoded data removed]",
      "text/plain": [
       "<Figure size 432x288 with 1 Axes>"
      ]
     },
     "metadata": {},
     "output_type": "display_data"
    }
   ],
   "source": [
    "plt.hist(playstore[playstore['reviews'] < 1000]['reviews'])\n",
    "plt.xlabel('reviews')\n",
    "plt.ylabel('counts')\n",
    "plt.title('apps with less than 1000 reviews')\n",
    "plt.show()"
   ]
  },
  {
   "cell_type": "code",
   "execution_count": 13,
   "metadata": {
    "scrolled": true
   },
   "outputs": [
    {
     "data": {
      "image/png": "[encoded data removed]",
      "text/plain": [
       "<Figure size 432x288 with 1 Axes>"
      ]
     },
     "metadata": {},
     "output_type": "display_data"
    }
   ],
   "source": [
    "plt.hist(playstore[(playstore['reviews'] > 1000) & (playstore['reviews'] < 8000000)]['reviews'])\n",
    "plt.xlabel('reviews')\n",
    "plt.ylabel('counts')\n",
    "plt.xticks(rotation = 45)\n",
    "plt.title('apps with more than 1000 reviews')\n",
    "plt.show()"
   ]
  },
  {
   "cell_type": "code",
   "execution_count": 14,
   "metadata": {},
   "outputs": [
    {
     "data": {
      "image/png": "[encoded data removed]",
      "text/plain": [
       "<Figure size 432x288 with 1 Axes>"
      ]
     },
     "metadata": {},
     "output_type": "display_data"
    }
   ],
   "source": [
    "plt.hist(playstore[playstore['reviews'] > 8000000]['reviews'])\n",
    "plt.xlabel('reviews')\n",
    "plt.ylabel('counts')\n",
    "plt.title('apps with more than 8,000,000 reviews')\n",
    "plt.show()"
   ]
  },
  {
   "cell_type": "markdown",
   "metadata": {},
   "source": [
    "It appears that about half of the apps have less than 1000 reviews, the other half have 1000 to one or two million, and a few have more than 8 million reviews."
   ]
  },
  {
   "cell_type": "markdown",
   "metadata": {},
   "source": [
    "#### 5. Dates in 'last_updated'"
   ]
  },
  {
   "cell_type": "code",
   "execution_count": 15,
   "metadata": {},
   "outputs": [
    {
     "name": "stdout",
     "output_type": "stream",
     "text": [
      "last_updated\n",
      "earliest: 2010-05-21 00:00:00\n",
      "latest: 2018-08-08 00:00:00\n"
     ]
    },
    {
     "data": {
      "image/png": "[encoded data removed]",
      "text/plain": [
       "<Figure size 432x288 with 1 Axes>"
      ]
     },
     "metadata": {},
     "output_type": "display_data"
    }
   ],
   "source": [
    "updated_earliest = playstore['last_updated'].min()\n",
    "updated_latest = playstore['last_updated'].max()\n",
    "print('last_updated\\nearliest: {}\\nlatest: {}'.format(updated_earliest, updated_latest))\n",
    "plt.hist(playstore['last_updated'].dt.year, bins = 8)\n",
    "plt.xlabel('year last updated')\n",
    "plt.ylabel('count')\n",
    "plt.show()"
   ]
  },
  {
   "cell_type": "markdown",
   "metadata": {},
   "source": [
    "Some apps hadn't been updated since 2010, but the majority were last updated in 2018, which makes sense."
   ]
  },
  {
   "cell_type": "code",
   "execution_count": 16,
   "metadata": {},
   "outputs": [
    {
     "data": {
      "image/png": "[encoded data removed]",
      "text/plain": [
       "<Figure size 432x288 with 1 Axes>"
      ]
     },
     "metadata": {},
     "output_type": "display_data"
    }
   ],
   "source": [
    "plt.hist(playstore[playstore['last_updated'].dt.year == 2018]['last_updated'].dt.month, bins = 7)\n",
    "plt.xlabel('month last updated')\n",
    "plt.ylabel('count')\n",
    "plt.title('month in 2018 last updated')\n",
    "plt.show()"
   ]
  },
  {
   "cell_type": "markdown",
   "metadata": {},
   "source": [
    "The data collection took place around August 8, so it's interesting that within a week or so of the beginning of August 2018, a third of the apps had already been updated."
   ]
  },
  {
   "cell_type": "markdown",
   "metadata": {},
   "source": [
    "### Two variables"
   ]
  },
  {
   "cell_type": "markdown",
   "metadata": {},
   "source": [
    "#### 1. rating vs installs"
   ]
  },
  {
   "cell_type": "code",
   "execution_count": 18,
   "metadata": {},
   "outputs": [
    {
     "data": {
      "image/png": "[encoded data removed]",
      "text/plain": [
       "<Figure size 432x288 with 1 Axes>"
      ]
     },
     "metadata": {},
     "output_type": "display_data"
    }
   ],
   "source": [
    "plt.scatter(playstore['installs'], playstore['rating'], alpha = 0.3)\n",
    "plt.xlabel('times installed')\n",
    "plt.ylabel('rating')\n",
    "plt.show()"
   ]
  },
  {
   "cell_type": "markdown",
   "metadata": {},
   "source": [
    "Apps with less installs tend to have a wider range of ratings, while apps that are installed more are mostly rated above 3.5."
   ]
  },
  {
   "cell_type": "markdown",
   "metadata": {},
   "source": [
    "#### 2. price vs installs"
   ]
  },
  {
   "cell_type": "code",
   "execution_count": 19,
   "metadata": {},
   "outputs": [
    {
     "data": {
      "image/png": "[encoded data removed]",
      "text/plain": [
       "<Figure size 432x288 with 1 Axes>"
      ]
     },
     "metadata": {},
     "output_type": "display_data"
    }
   ],
   "source": [
    "plt.scatter(playstore['price'], playstore['installs'], alpha = 0.3)\n",
    "plt.xlabel('price')\n",
    "plt.ylabel('times installed')\n",
    "plt.show()"
   ]
  },
  {
   "cell_type": "code",
   "execution_count": 20,
   "metadata": {},
   "outputs": [
    {
     "data": {
      "image/png": "[encoded data removed]",
      "text/plain": [
       "<Figure size 432x288 with 1 Axes>"
      ]
     },
     "metadata": {},
     "output_type": "display_data"
    }
   ],
   "source": [
    "temp = playstore[playstore['installs'] <= 100000]\n",
    "plt.scatter(temp['price'], temp['installs'], alpha = 0.3)\n",
    "plt.xlabel('price')\n",
    "plt.ylabel('times installed')\n",
    "plt.title('prices vs installs (zoomed in)')\n",
    "plt.show()"
   ]
  },
  {
   "cell_type": "markdown",
   "metadata": {},
   "source": [
    "At lower price ranges (less than \\$50), the price doesn't really affect the number of installs. From about \\$50 to \\$350, the number of installs is consistently low. At around \\$400, the number of installs is still low, but there is more variation, and one app even had 100,000+ downloads."
   ]
  },
  {
   "cell_type": "markdown",
   "metadata": {},
   "source": [
    "#### 3. rating vs reviews"
   ]
  },
  {
   "cell_type": "code",
   "execution_count": 21,
   "metadata": {},
   "outputs": [
    {
     "data": {
      "image/png": "[encoded data removed]",
      "text/plain": [
       "<Figure size 432x288 with 1 Axes>"
      ]
     },
     "metadata": {},
     "output_type": "display_data"
    }
   ],
   "source": [
    "plt.scatter(playstore['rating'], playstore['reviews'], alpha = 0.3)\n",
    "plt.xlabel('rating')\n",
    "plt.ylabel('number of reviews')\n",
    "plt.show()"
   ]
  },
  {
   "cell_type": "markdown",
   "metadata": {},
   "source": [
    "It seems that apps with enormous numbers of reviews fall in the range of 4 to 4.7 stars. In general, that range of ratings corresponds to an increase in reviews."
   ]
  },
  {
   "cell_type": "markdown",
   "metadata": {},
   "source": [
    "#### 4. rating grouped by category"
   ]
  },
  {
   "cell_type": "code",
   "execution_count": 22,
   "metadata": {},
   "outputs": [
    {
     "data": {
      "image/png": "[encoded data removed]",
      "text/plain": [
       "<Figure size 432x288 with 1 Axes>"
      ]
     },
     "metadata": {},
     "output_type": "display_data"
    }
   ],
   "source": [
    "temp = playstore.groupby(by = 'category')['rating'].mean()\n",
    "plt.bar(temp.index, temp.values)\n",
    "plt.ylim((3.5, 4.5))\n",
    "plt.xticks(rotation = 90)\n",
    "plt.xlabel('category')\n",
    "plt.ylabel('average rating')\n",
    "plt.show()"
   ]
  },
  {
   "cell_type": "code",
   "execution_count": 23,
   "metadata": {},
   "outputs": [
    {
     "data": {
      "text/plain": [
       "category\n",
       "art_and_design         4.357377\n",
       "auto_and_vehicles      4.190411\n",
       "beauty                 4.278571\n",
       "books_and_reference    4.344970\n",
       "business               4.098479\n",
       "comics                 4.181481\n",
       "communication          4.121484\n",
       "dating                 3.970149\n",
       "education              4.364407\n",
       "entertainment          4.135294\n",
       "events                 4.435556\n",
       "family                 4.179664\n",
       "finance                4.115563\n",
       "food_and_drink         4.172340\n",
       "game                   4.247368\n",
       "health_and_fitness     4.243033\n",
       "house_and_home         4.150000\n",
       "libraries_and_demo     4.178125\n",
       "lifestyle              4.086093\n",
       "maps_and_navigation    4.036441\n",
       "medical                4.166552\n",
       "news_and_magazines     4.121569\n",
       "parenting              4.300000\n",
       "personalization        4.332215\n",
       "photography            4.157414\n",
       "productivity           4.183389\n",
       "shopping               4.230000\n",
       "social                 4.247291\n",
       "sports                 4.216154\n",
       "tools                  4.039554\n",
       "travel_and_local       4.069519\n",
       "video_players          4.044595\n",
       "weather                4.243056\n",
       "Name: rating, dtype: float64"
      ]
     },
     "execution_count": 23,
     "metadata": {},
     "output_type": "execute_result"
    }
   ],
   "source": [
    "temp"
   ]
  },
  {
   "cell_type": "code",
   "execution_count": 24,
   "metadata": {},
   "outputs": [
    {
     "data": {
      "image/png": "[encoded data removed]",
      "text/plain": [
       "<Figure size 432x288 with 1 Axes>"
      ]
     },
     "metadata": {},
     "output_type": "display_data"
    }
   ],
   "source": [
    "plt.hist(playstore.groupby(by = 'category')['rating'].mean())\n",
    "plt.xlabel('average rating')\n",
    "plt.ylabel('number of categories')\n",
    "plt.show()"
   ]
  },
  {
   "cell_type": "markdown",
   "metadata": {},
   "source": [
    "The average ratings for each category aren't that far apart, ranging from 3.9 (dating apps) to 4.44 (events apps). About half of the categories have average ratings of about 4.15 to 4.25."
   ]
  },
  {
   "cell_type": "markdown",
   "metadata": {},
   "source": [
    "## Questions"
   ]
  },
  {
   "cell_type": "markdown",
   "metadata": {},
   "source": [
    "- Suggestions on what to do with the missing rating values? I don't want to remove them because that's a substantial amount of data, and the other columns don't have nearly as many NaN values. I'm thinking about replacing them with 3's because it's in the middle of the 5-star scale, though that would for sure skew the data.\n",
    "- When I tried using plt.bar to plot the distribution for installs, an empty graph shows up (below). I've tried specifying a width value and converting installs_counts.index to a list, but nothing really worked.\n",
    "- Are there any resources besides the matplotlib documentation (because I find it confusing, especially compared to other documentations) for learning how to use pyplot?\n",
    "- Is there another plot type that could work for visualizing rating vs installs or price vs installs? The current scatterplots don't look so good.\n",
    "- How do you plot last_updated with other variables? When I tried to plot it with rating, it either took a long time and looked like a mess, or just raised an error. Would plotting it by month or year help?\n",
    "- I'm not sure whether to delete some columns (e.g. app size, genre, and versions) because I don't know if they'll be useful for anything. Size and app version in particular have values like 'Varies with device', which is harder to deal with."
   ]
  },
  {
   "cell_type": "code",
   "execution_count": 25,
   "metadata": {},
   "outputs": [
    {
     "data": {
      "image/png": "[encoded data removed]",
      "text/plain": [
       "<Figure size 432x288 with 1 Axes>"
      ]
     },
     "metadata": {},
     "output_type": "display_data"
    }
   ],
   "source": [
    "# what happened when I tried to use plt.bar\n",
    "installs_counts = playstore['installs'].value_counts().sort_index()\n",
    "plt.bar(installs_counts.index, installs_counts.values)\n",
    "plt.show()"
   ]
  }
 ],
 "metadata": {
  "kernelspec": {
   "display_name": "Python 3",
   "language": "python",
   "name": "python3"
  },
  "language_info": {
   "codemirror_mode": {
    "name": "ipython",
    "version": 3
   },
   "file_extension": ".py",
   "mimetype": "text/x-python",
   "name": "python",
   "nbconvert_exporter": "python",
   "pygments_lexer": "ipython3",
   "version": "3.6.5"
  }
 },
 "nbformat": 4,
 "nbformat_minor": 2
}
