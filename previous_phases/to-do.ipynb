{
 "cells": [
  {
   "cell_type": "markdown",
   "metadata": {},
   "source": [
    "### Weiter machen"
   ]
  },
  {
   "cell_type": "markdown",
   "metadata": {},
   "source": [
    "- further data cleaning\n",
    "    - consider price as categorical value (or whether to keep that column)\n",
    "- analyses\n",
    "    - if price as categorical variable, try grouping prereg analysis by price\n",
    "    - installs vs other variables\n",
    "        - vs rating: because the most correlation in multivariate regression models; visualization in phase 2; regression?  \n",
    "        - vs reviews: because looks like could be more related in the \"rating v reviews group by installs\" graph; regression?\n",
    "        - vs price: visualization in phase 2; regression?; maybe exclude free apps\n",
    "- ideas\n",
    "    - correlation coefficients\n",
    "    - distribution of installs according to category\n",
    "    - clusters? by category?\n",
    "    - price vs ratings excluding free apps\n",
    "    - when plotting w last_updated: box plot by month?"
   ]
  },
  {
   "cell_type": "code",
   "execution_count": null,
   "metadata": {},
   "outputs": [],
   "source": []
  }
 ],
 "metadata": {
  "kernelspec": {
   "display_name": "Python 3",
   "language": "python",
   "name": "python3"
  },
  "language_info": {
   "codemirror_mode": {
    "name": "ipython",
    "version": 3
   },
   "file_extension": ".py",
   "mimetype": "text/x-python",
   "name": "python",
   "nbconvert_exporter": "python",
   "pygments_lexer": "ipython3",
   "version": "3.6.5"
  }
 },
 "nbformat": 4,
 "nbformat_minor": 2
}
